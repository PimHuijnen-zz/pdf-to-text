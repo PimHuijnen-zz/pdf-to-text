{
 "cells": [
  {
   "cell_type": "markdown",
   "metadata": {},
   "source": [
    "# From pdf to txt with Textract\n",
    "\n",
    "This script is work in progress. It works, but Textract seems to performs worse than similar packages.\n",
    "\n",
    "#### To do\n",
    "\n",
    "* Check whether the tokenizer (str -> list) is necessary. Why not simply write text as str (f.write(text))? "
   ]
  },
  {
   "cell_type": "code",
   "execution_count": null,
   "metadata": {},
   "outputs": [],
   "source": [
    "import textract\n",
    "import os\n",
    "from os.path import splitext"
   ]
  },
  {
   "cell_type": "code",
   "execution_count": null,
   "metadata": {},
   "outputs": [],
   "source": [
    "indir = r'/path/to/files/'\n",
    "outdir = r'/path/to/outdir/'\n",
    "\n",
    "os.makedirs(os.path.dirname(outdir), exist_ok=True) # Make outdir if it doesn't already exist"
   ]
  },
  {
   "cell_type": "code",
   "execution_count": null,
   "metadata": {},
   "outputs": [],
   "source": [
    "# function to remove extension from filename\n",
    "def remove_ext(filepath):\n",
    "    root, ext = splitext(filepath)\n",
    "    return root"
   ]
  },
  {
   "cell_type": "markdown",
   "metadata": {},
   "source": [
    "Option 1: directory with pdf files"
   ]
  },
  {
   "cell_type": "code",
   "execution_count": null,
   "metadata": {},
   "outputs": [],
   "source": [
    "for filename in os.listdir(indir):\n",
    "    if filename.endswith(\".pdf\"):\n",
    "        full_file = os.path.join(indir, filename)\n",
    "        \n",
    "        text = textract.process(full_file, errors='ignore') # Textract on full_file\n",
    "    \n",
    "        text = text.decode('utf-8') # Turns Textract output (in bytes(?)) to utf-8 decoded text\n",
    "        \n",
    "        filename_root = remove_ext(filename) # turn filename.pdf into filename.txt\n",
    "        filename_text = filename_root+\".txt\" # turn filename.pdf into filename.txt\n",
    "        with open(outdir+filename_text, \"w\") as f:\n",
    "            # write out all words (converting the list to a string with spaces)\n",
    "            f.write(text) "
   ]
  },
  {
   "cell_type": "markdown",
   "metadata": {},
   "source": [
    "Option 2: directory with subdirectories with pdf files"
   ]
  },
  {
   "cell_type": "code",
   "execution_count": null,
   "metadata": {},
   "outputs": [],
   "source": [
    "for root, dirs, files in os.walk(indir):\n",
    "    for filename in files:\n",
    "        filepath = root + os.sep + filename\n",
    "        if filepath.endswith(\".pdf\"):\n",
    "            full_file = os.path.join(root, filename) \n",
    "\n",
    "            text = textract.process(full_file, encoding='utf-8', errors='ignore') # Textract on full_file\n",
    "           \n",
    "            text = text.decode('utf-8') # Turns Textract output (in bytes(?)) to utf-8 decoded text\n",
    "            \n",
    "            filename_root = remove_ext(filename) # turn filename.pdf into filename.txt\n",
    "            filename_text = filename_root+\".txt\" # turn filename.pdf into filename.txt\n",
    "            with open(outdir+filename_text, \"w\") as f:\n",
    "                # write out all words (converting the list to a string with spaces)\n",
    "                f.write(text) "
   ]
  }
 ],
 "metadata": {
  "kernelspec": {
   "display_name": "Python 3",
   "language": "python",
   "name": "python3"
  },
  "language_info": {
   "codemirror_mode": {
    "name": "ipython",
    "version": 3
   },
   "file_extension": ".py",
   "mimetype": "text/x-python",
   "name": "python",
   "nbconvert_exporter": "python",
   "pygments_lexer": "ipython3",
   "version": "3.8.5"
  }
 },
 "nbformat": 4,
 "nbformat_minor": 4
}
