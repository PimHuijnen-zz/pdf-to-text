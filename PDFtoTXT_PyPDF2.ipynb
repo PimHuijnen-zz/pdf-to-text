{
 "cells": [
  {
   "cell_type": "markdown",
   "metadata": {},
   "source": [
    "# From pdf to txt with PyPDF2\n",
    "\n",
    "This script to extract text from pdf's with PyPDF2 is work in progress. It does not work on all test files."
   ]
  },
  {
   "cell_type": "code",
   "execution_count": null,
   "metadata": {},
   "outputs": [],
   "source": [
    "import os\n",
    "from os.path import splitext\n",
    "import PyPDF2\n",
    "import sys\n",
    "import tempfile"
   ]
  },
  {
   "cell_type": "code",
   "execution_count": null,
   "metadata": {},
   "outputs": [],
   "source": [
    "indir = r'/path/to/files/'\n",
    "outdir = r'/path/to/outdir/'\n",
    "\n",
    "# os.makedirs(os.path.dirname(outdir), exist_ok=True) # make outdir if it doesn't already exists"
   ]
  },
  {
   "cell_type": "code",
   "execution_count": null,
   "metadata": {},
   "outputs": [],
   "source": [
    "# removes extension from filename\n",
    "def remove_ext(filepath):\n",
    "    root, ext = splitext(filepath)\n",
    "    return root"
   ]
  },
  {
   "cell_type": "markdown",
   "metadata": {},
   "source": [
    "### Because of EOF_marker error:\n",
    "\n",
    "Option 1: Function to remove EOF_marker. Does not always work..."
   ]
  },
  {
   "cell_type": "code",
   "execution_count": null,
   "metadata": {},
   "outputs": [],
   "source": [
    "EOF_MARKER = b'%%EOF'\n",
    "\n",
    "def fix_eof_marker(contents):\n",
    "# check if EOF is somewhere else in the file\n",
    "    if EOF_MARKER in contents:\n",
    "        # we can remove the early %%EOF and put it at the end of the file\n",
    "        contents = contents.replace(EOF_MARKER, b'')\n",
    "        contents = contents + EOF_MARKER\n",
    "    else:\n",
    "        # Some files really don't have an EOF marker\n",
    "        # In this case it helped to manually review the end of the file\n",
    "        print(contents[-8:]) # see last characters at the end of the file\n",
    "        # printed b'\\n%%EO%E'\n",
    "        contents = contents[:-6] + EOF_MARKER\n",
    "    return contents"
   ]
  },
  {
   "cell_type": "markdown",
   "metadata": {},
   "source": [
    "Option 2: Copy pdf to temp-file and open from there. <u>To do: turn into function</u>"
   ]
  },
  {
   "cell_type": "code",
   "execution_count": null,
   "metadata": {},
   "outputs": [],
   "source": [
    "payslip_file = request.files.get('payslip_file')\n",
    "file_name = xyz.ext\n",
    "\n",
    "# Create temp dir\n",
    "temp_local_dir = tempfile.mkdtemp()\n",
    "file_path = os.path.join(temp_local_dir, file_name)\n",
    "\n",
    "payslip_file.stream.seek(0)\n",
    "payslip_file.save(file_path)\n",
    "payslip_file.close()\n",
    "\n",
    "pdfFileObj  = open(file_path, 'rb')\n",
    "\n",
    "\n",
    "# Delete temp file after use\n",
    "if os.path.exists(file_path):\n",
    "   os.remove(file_path) # Delete file"
   ]
  },
  {
   "cell_type": "markdown",
   "metadata": {},
   "source": [
    "Extract text from pdfs:"
   ]
  },
  {
   "cell_type": "code",
   "execution_count": null,
   "metadata": {},
   "outputs": [],
   "source": [
    "for root, dirs, files in os.walk(indir):\n",
    "    for name in files:\n",
    "        filepath = root + os.sep + name\n",
    "        if filepath.endswith(\".pdf\"):\n",
    "            full_file = os.path.join(root, name)\n",
    "        # Zet filename.pdf om in filename.txt\n",
    "        filename_root = remove_ext(name)\n",
    "        filename_text = filename_root+\".txt\"\n",
    "        with open(full_file, 'rb') as pdf:\n",
    "            pdf_read = pdf.read()\n",
    "            full_file_new = fix_eof_marker(pdf_read)\n",
    "        # open pdf, create PyPDF2 object and generate number of pages\n",
    "        with open(full_file_new, 'rb') as pdf_text:\n",
    "            object = PyPDF2.PdfFileReader(pdf_text)\n",
    "            NumPages = object.getNumPages()\n",
    "            print(\"Processing \" + filename_text + \" with \" + str(NumPages) + \" pages\")\n",
    "            # extract text from 'object' per page and write to empty string 'text'\n",
    "            text = \"\"\n",
    "            for p in range(0, NumPages):\n",
    "                PageObj = object.getPage(p)\n",
    "                text_p = PageObj.extractText()\n",
    "                text += text_p\n",
    "        \n",
    "        # make file filename_text in outdir\n",
    "        with open(outdir+filename_text, \"w\") as f:\n",
    "            # write out text (as a string) to filename_txt\n",
    "            f.write(text) "
   ]
  }
 ],
 "metadata": {
  "kernelspec": {
   "display_name": "Python 3",
   "language": "python",
   "name": "python3"
  },
  "language_info": {
   "codemirror_mode": {
    "name": "ipython",
    "version": 3
   },
   "file_extension": ".py",
   "mimetype": "text/x-python",
   "name": "python",
   "nbconvert_exporter": "python",
   "pygments_lexer": "ipython3",
   "version": "3.8.5"
  }
 },
 "nbformat": 4,
 "nbformat_minor": 4
}
